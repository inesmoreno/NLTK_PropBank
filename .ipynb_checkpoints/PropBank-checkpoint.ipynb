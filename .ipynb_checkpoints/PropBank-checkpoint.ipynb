{
 "cells": [
  {
   "cell_type": "markdown",
   "metadata": {},
   "source": [
    "# NLTK PropBank"
   ]
  },
  {
   "cell_type": "markdown",
   "metadata": {},
   "source": [
    "## Explore Semantic Role Labeling"
   ]
  },
  {
   "cell_type": "code",
   "execution_count": 1,
   "metadata": {
    "collapsed": true
   },
   "outputs": [],
   "source": [
    "# Import Statements\n",
    "from nltk.corpus import propbank, PropbankCorpusReader, treebank, semcor, stopwords, words, wordnet\n",
    "# http://www.nltk.org/howto/corpus.html"
   ]
  },
  {
   "cell_type": "code",
   "execution_count": 68,
   "metadata": {},
   "outputs": [
    {
     "data": {
      "text/plain": [
       "'Proposition Bank Corpus 1.0\\n\\nMartha Palmer   http://verbs.colorado.edu/~mpalmer/projects/ace.html\\n\\nDistributed with Permission\\n\\nThis directory contains the data of the UPenn Propbank.  This data is collected\\nas an additional layer of annotation on the Penn Treebank, representing the predicate\\nargument structure of verbs.  Below is a list of each file and a description of\\nits contents.\\n\\n\\nFile                      Description\\n--------------------------------------------------------------------------------------\\nprop.txt                  The annotated data, file format described below.\\n                          This includes the annotations for the entire Wall \\n                          Street Journal Section of the Penn TreeBank II.\\n                          \\nframes/                   Lexical Guidelines.  The file format for each verb is\\n                          detailed in frames/frameset.dtd\\n\\nvloc.txt                  text file containing verb locations in the penn \\n                          treebank that have been annotated.\\n                          \\nverbs.txt                 verb list for Penn Treebank, Wall Street Journal section.\\n\\nNOTES.txt                 release notes for PropBank I\\n--------------------------------------------------------------------------------------\\n\\n                               Annotation Format.\\n\\nThe prop.txt file contains predicate argument structures of verbs.  Each P-A structure\\nis represented in a line of space separated columns.  The columns are as follows\\n\\n  wsj-filename sentence terminal tagger frameset inflection proplabel proplabel ...\\n\\nThe content of each column is described in detail below.\\n\\nwsj-filename\\n\\tthe name of the file in merged penn treebank, wsj section\\n    \\nsentence\\n\\tthe number of the sentence in the file (starting with 0)\\n    \\nterminal\\n\\tthe number of the terminal in the sentence that is the location of the\\n\\tverb.  note that the terminal number counts empty constituents as\\n\\tterminals and starts with 0.  This will hold for all references to\\n\\tterminal number in this description.\\n\\n    An example:  \\n        (NP-1 (NN John) (VP (VB wants) (S (NP (-NONE- *-1)) (VP (TO to) (V swim)))))\\n        \\n    The terminal numbers:\\n        John 0; wants 1; *-1 2; to 3; swim 4\\n        \\ntagger\\n    the name of the annotator, or \"gold\" if it\\'s been double annotated and adjudicated.\\n    \\nframeset\\n\\n    The frameset identifier from the frames file of the verb.  For\\n    example, \\'dial.01\\' refers to the frames file for \\'dial\\', (frames/dial.xml)\\n    and the roleset element in that frames file whose attribute \\'id\\' is\\n    \\'dial.01\\'.\\n\\n    There are some instances which have yet to be disambiguated, these\\n    are marked as \\'lemma.XX\\'.\\n\\n        \\ninflection\\n    The inflection field consists of 5 characters representing\\n    person, tense, aspect, voice, and form of the verb, respectively.\\n         \\n    Each of the characters may be \\'-\\', representing \\'none.\\' \\n\\n    Otherwise, each of the fields character codes follow:\\n\\n    form: i=infinitive g=gerund p=participle v=finite\\n    tense:  f=future p=past n=present\\n    aspect: p=perfect o=progressive b=both perfect and progressive\\n    person: 3=3rd person  \\n    voice: a=active p=passive\\n\\nproplabel\\n\\n    A string representing the annotation associated with a particular argument\\n    or adjunct of the proposition.  Each proplabel is dash \\'-\\' delimited and\\n    has the following columns\\n\\n  1) column for the \\'syntactic relation\\'\\n  \\n    The syntactic relation of the argument label.  This can be in one of 4 forms.\\n    \\n    form 1: <terminal number>:<height>\\n      A single node in the syntax tree of the sentence in question, identified\\n      by the first terminal the node spans together with the height from that\\n      terminal to the syntax node (a height of 0 represents a terminal).\\n\\n      For example,  in the sentence\\n      \\n        (S (NP-1 (NN John) (VP (VB wants) (S (NP (-NONE- *-1)) (VP (TO to) (V swim)))))\\n\\n        A syntactic relation of \"2:1\" represents the NP immediately dominating\\n        the terminal \"(-NONE- *-1)\" and a syntactic relation of \"0:2\" represents \\n        the \"S\" node.\\n        \\n    form 2: terminal number:height*terminal number:height*...\\n      \\n      A trace chain identifying coreference within sentence boundaries.\\n\\n      For example in the sentence\\n\\n        ((NP-1 (NN John) (VP (VB wants) (S (NP (-NONE- *-1)) (VP (TO to) (V swim)))))\\n\\n        A syntactic relation of \"2:1*0:1\" represents the NP immediately dominating\\n        (-NONE- *-1) and the NP immediately dominating \"(NN John)\".\\n      \\n      \\n    form 3: terminal number:height,terminal number:height,...\\n    \\n      A split argument, where there is no single node that captures the argument\\n      and the components are not coreferential, eg the utterance in\\n      \"I\\'m going to\", spoke John, \"take it with me\".  This form is also used\\n      to denote phrasal variants of verbs.  For example, in the phrase fragment\\n\\n      (S (NP (NN John)) (VP (VB keeps) (PRT on) (NP ...)).  The phrasal verb \\n      \"keep_on\" would be identified with the syntactic relation  \"1:0,2:0\".\\n\\n    form 4: terminal number:height,terminal number:height*terminal number:height...\\n\\n      This form is a combination of forms 2 and 3.  When this occurs, the \\',\\' operator\\n      is understood to have precedence over the \\'*\\' operator.  For example, in the sentence\\n\\n       (NP (DT a) (NN series) ) \\n           (PP (IN of)(NP (NNS intrigues) ))\\n              (SBAR\\n                (WHNP-4 (WDT that) )\\n                (S\\n                  (NP-SBJ (-NONE- *T*-4) )\\n                  (VP (VBZ has)\\n                    (S\\n                      (NP-SBJ (NN everyone) )\\n                      (VP (VBG fearing)\\n\\n       The proplabel 28:1,30:1*32:1*33:0-ARG0 is to be understood as a trace-chain (form 2), one\\n       of whose constituents is a split argument (form 3) - i.e. grouped like so: \\n       ((28:1,30:1)*32:1*33:0).  The interpretation of this argument is that the \"causer of action\"\\n       (ARG0 of have.04) is signified by the following trace-chain:\\n\\n       *T*-4 --> that --> ([a series][of intrigues])\\n\\n\\n  2) column for the \\'label\\'\\n  \\n    The argument label one of {rel, ARGA, ARGM} + { ARG0, ARG1, ARG2,\\n    ... }.  The argument labels correspond to the argument labels in the frames\\n    files (see ./frames).  ARGA is used for causative agents, ARGM for\\n    adjuncts of various sorts, and \\'rel\\' refers to the surface string of\\n    the verb.\\n\\n  3) column for feature (optional for numbered arguments; required for ARGM)\\n\\n    Argument features can either be a labelled feature, or a preposition.  Labelled \\n    features follow:\\n\\n    EXT - extent\\n    DIR - direction\\n    LOC - location\\n    TMP - temporal\\n    REC - reciprocal\\n    PRD - predication\\n    NEG - negation\\n    MOD - modal\\n    ADV - adverbial\\n    MNR - manner\\n    CAU - cause\\n    PNC - purpose not cause.\\n    DIS - discourse\\n\\n    Prepositions attached to argument labels occur when the argument is tagged on \\n    a PP node.\\n\\n-------------------------------------------------------------------------------------- \\n'"
      ]
     },
     "execution_count": 68,
     "metadata": {},
     "output_type": "execute_result"
    }
   ],
   "source": [
    "propbank.readme()\n",
    "\n",
    "# http://www.nltk.org/howto/propbank.html"
   ]
  },
  {
   "cell_type": "code",
   "execution_count": 3,
   "metadata": {},
   "outputs": [
    {
     "data": {
      "text/plain": [
       "['prop.txt',\n",
       " 'verbs.txt',\n",
       " 'frames/abandon.xml',\n",
       " 'frames/abate.xml',\n",
       " 'frames/abdicate.xml',\n",
       " 'frames/abduct.xml',\n",
       " 'frames/abet.xml',\n",
       " 'frames/abide.xml',\n",
       " 'frames/abolish.xml',\n",
       " 'frames/abominate.xml']"
      ]
     },
     "execution_count": 3,
     "metadata": {},
     "output_type": "execute_result"
    }
   ],
   "source": [
    "# Callables\n",
    "propbank.fileids()[:10]"
   ]
  },
  {
   "cell_type": "code",
   "execution_count": 128,
   "metadata": {
    "collapsed": true
   },
   "outputs": [],
   "source": [
    "pb_instances = propbank.instances()"
   ]
  },
  {
   "cell_type": "code",
   "execution_count": 147,
   "metadata": {},
   "outputs": [
    {
     "name": "stdout",
     "output_type": "stream",
     "text": [
      "(S\n",
      "  (NP-SBJ\n",
      "    (NP (NNP Pierre) (NNP Vinken))\n",
      "    (, ,)\n",
      "    (ADJP (NP (CD 61) (NNS years)) (JJ old))\n",
      "    (, ,))\n",
      "  (VP\n",
      "    (MD will)\n",
      "    (VP\n",
      "      (VB join)\n",
      "      (NP (DT the) (NN board))\n",
      "      (PP-CLR (IN as) (NP (DT a) (JJ nonexecutive) (NN director)))\n",
      "      (NP-TMP (NNP Nov.) (CD 29))))\n",
      "  (. .))\n",
      "wsj_0001.mrg\n",
      "0\n",
      "8\n",
      "gold\n"
     ]
    },
    {
     "data": {
      "image/png": "[encoded data removed]",
      "text/plain": [
       "Tree('S', [Tree('NP-SBJ', [Tree('NP', [Tree('NNP', ['Pierre']), Tree('NNP', ['Vinken'])]), Tree(',', [',']), Tree('ADJP', [Tree('NP', [Tree('CD', ['61']), Tree('NNS', ['years'])]), Tree('JJ', ['old'])]), Tree(',', [','])]), Tree('VP', [Tree('MD', ['will']), Tree('VP', [Tree('VB', ['join']), Tree('NP', [Tree('DT', ['the']), Tree('NN', ['board'])]), Tree('PP-CLR', [Tree('IN', ['as']), Tree('NP', [Tree('DT', ['a']), Tree('JJ', ['nonexecutive']), Tree('NN', ['director'])])]), Tree('NP-TMP', [Tree('NNP', ['Nov.']), Tree('CD', ['29'])])])]), Tree('.', ['.'])])"
      ]
     },
     "execution_count": 147,
     "metadata": {},
     "output_type": "execute_result"
    }
   ],
   "source": [
    "print(pb_instances[0].tree)\n",
    "print(pb_instances[0].fileid)\n",
    "print(pb_instances[0].sentnum)\n",
    "print(pb_instances[0].wordnum)\n",
    "print(pb_instances[0].tagger)\n",
    "pb_instances[0].tree"
   ]
  },
  {
   "cell_type": "code",
   "execution_count": 145,
   "metadata": {},
   "outputs": [
    {
     "name": "stdout",
     "output_type": "stream",
     "text": [
      "vf--a\n"
     ]
    }
   ],
   "source": [
    "print(pb_instances[0].inflection)\n",
    "\n",
    "#pb_instances[0].inflection.form: Verb\n",
    "#pb_instances[0].inflection.tense: Future\n",
    "#pb_instances[0].inflection.aspect: -\n",
    "#pb_instances[0].inflection.person: -\n",
    "#pb_instances[0].inflection.voice: Active"
   ]
  },
  {
   "cell_type": "code",
   "execution_count": 155,
   "metadata": {},
   "outputs": [
    {
     "data": {
      "text/plain": [
       "'join.01'"
      ]
     },
     "execution_count": 155,
     "metadata": {},
     "output_type": "execute_result"
    }
   ],
   "source": [
    "# WordNet Word Sense of the verb \"join\"\n",
    "pb_instances[0].roleset"
   ]
  },
  {
   "cell_type": "code",
   "execution_count": 156,
   "metadata": {},
   "outputs": [
    {
     "data": {
      "text/plain": [
       "PropbankTreePointer(8, 0)"
      ]
     },
     "execution_count": 156,
     "metadata": {},
     "output_type": "execute_result"
    }
   ],
   "source": [
    "# Pointing the predicate on the node on the tree\n",
    "pb_instances[0].predicate"
   ]
  },
  {
   "cell_type": "code",
   "execution_count": 157,
   "metadata": {},
   "outputs": [
    {
     "data": {
      "text/plain": [
       "((PropbankTreePointer(0, 2), 'ARG0'),\n",
       " (PropbankTreePointer(7, 0), 'ARGM-MOD'),\n",
       " (PropbankTreePointer(9, 1), 'ARG1'),\n",
       " (PropbankTreePointer(11, 1), 'ARGM-PRD'),\n",
       " (PropbankTreePointer(15, 1), 'ARGM-TMP'))"
      ]
     },
     "execution_count": 157,
     "metadata": {},
     "output_type": "execute_result"
    }
   ],
   "source": [
    "# Semantic Roles pointed on the tree\n",
    "pb_instances[0].arguments"
   ]
  },
  {
   "cell_type": "code",
   "execution_count": null,
   "metadata": {
    "collapsed": true
   },
   "outputs": [],
   "source": []
  },
  {
   "cell_type": "markdown",
   "metadata": {
    "collapsed": true
   },
   "source": [
    "# TreeBank"
   ]
  },
  {
   "cell_type": "code",
   "execution_count": 4,
   "metadata": {},
   "outputs": [
    {
     "data": {
      "text/plain": [
       "['wsj_0001.mrg',\n",
       " 'wsj_0002.mrg',\n",
       " 'wsj_0003.mrg',\n",
       " 'wsj_0004.mrg',\n",
       " 'wsj_0005.mrg',\n",
       " 'wsj_0006.mrg',\n",
       " 'wsj_0007.mrg',\n",
       " 'wsj_0008.mrg',\n",
       " 'wsj_0009.mrg',\n",
       " 'wsj_0010.mrg']"
      ]
     },
     "execution_count": 4,
     "metadata": {},
     "output_type": "execute_result"
    }
   ],
   "source": [
    "# TreeBank Callables (Default input to PropBank)\n",
    "treebank.fileids()[:10]"
   ]
  },
  {
   "cell_type": "code",
   "execution_count": 7,
   "metadata": {},
   "outputs": [
    {
     "data": {
      "text/plain": [
       "'\\n( (S \\n    (NP-SBJ \\n      (NP (NNP Pierre) (NNP Vinken) )\\n      (, ,) \\n      (ADJP \\n        (NP (CD 61) (NNS years) )\\n        (JJ old) )\\n      (, ,) )\\n    (VP (MD will) \\n      (VP (VB join) \\n        (NP (DT the) (NN board) )\\n        (PP-CLR (IN as) \\n          (NP (DT a) (JJ nonexecutive) (NN director) ))\\n        (NP-TMP (NNP Nov.) (CD 29) )))\\n    (. .) ))\\n( (S \\n    (NP-SBJ (NNP Mr.) (NNP Vinken) )\\n    (VP (VBZ is) \\n      (NP-PRD \\n        (NP (NN chairman) )\\n        (PP (IN of) \\n          (NP \\n            (NP (NNP Elsevier) (NNP N.V.) )\\n            (, ,) \\n            (NP (DT the) (NNP Dutch) (VBG publishing) (NN group) )))))\\n    (. .) ))\\n'"
      ]
     },
     "execution_count": 7,
     "metadata": {},
     "output_type": "execute_result"
    }
   ],
   "source": [
    "treebank.raw('wsj_0001.mrg')"
   ]
  },
  {
   "cell_type": "code",
   "execution_count": 9,
   "metadata": {},
   "outputs": [
    {
     "data": {
      "text/plain": [
       "['The',\n",
       " 'survival',\n",
       " 'of',\n",
       " 'spinoff',\n",
       " 'Cray',\n",
       " 'Computer',\n",
       " 'Corp.',\n",
       " 'as',\n",
       " 'a',\n",
       " 'fledgling',\n",
       " 'in',\n",
       " 'the',\n",
       " 'supercomputer',\n",
       " 'business',\n",
       " 'appears',\n",
       " '*-1',\n",
       " 'to',\n",
       " 'depend',\n",
       " 'heavily',\n",
       " 'on']"
      ]
     },
     "execution_count": 9,
     "metadata": {},
     "output_type": "execute_result"
    }
   ],
   "source": [
    "treebank.words('wsj_0018.mrg')[:20]"
   ]
  },
  {
   "cell_type": "code",
   "execution_count": 67,
   "metadata": {},
   "outputs": [
    {
     "data": {
      "text/plain": [
       "996"
      ]
     },
     "execution_count": 67,
     "metadata": {},
     "output_type": "execute_result"
    }
   ],
   "source": [
    "len(treebank.words('wsj_0018.mrg'))"
   ]
  },
  {
   "cell_type": "code",
   "execution_count": 93,
   "metadata": {},
   "outputs": [
    {
     "data": {
      "image/png": "[encoded data removed]",
      "text/plain": [
       "Tree('S', [Tree('NP-SBJ', [Tree('NP', [Tree('NNP', ['Pierre']), Tree('NNP', ['Vinken'])]), Tree(',', [',']), Tree('ADJP', [Tree('NP', [Tree('CD', ['61']), Tree('NNS', ['years'])]), Tree('JJ', ['old'])]), Tree(',', [','])]), Tree('VP', [Tree('MD', ['will']), Tree('VP', [Tree('VB', ['join']), Tree('NP', [Tree('DT', ['the']), Tree('NN', ['board'])]), Tree('PP-CLR', [Tree('IN', ['as']), Tree('NP', [Tree('DT', ['a']), Tree('JJ', ['nonexecutive']), Tree('NN', ['director'])])]), Tree('NP-TMP', [Tree('NNP', ['Nov.']), Tree('CD', ['29'])])])]), Tree('.', ['.'])])"
      ]
     },
     "execution_count": 93,
     "metadata": {},
     "output_type": "execute_result"
    }
   ],
   "source": [
    "treebank.parsed_sents('wsj_0001.mrg')[0]"
   ]
  },
  {
   "cell_type": "code",
   "execution_count": 94,
   "metadata": {},
   "outputs": [
    {
     "data": {
      "image/png": "[encoded data removed]",
      "text/plain": [
       "Tree('S', [Tree('NP-SBJ', [Tree('NNP', ['Mr.']), Tree('NNP', ['Vinken'])]), Tree('VP', [Tree('VBZ', ['is']), Tree('NP-PRD', [Tree('NP', [Tree('NN', ['chairman'])]), Tree('PP', [Tree('IN', ['of']), Tree('NP', [Tree('NP', [Tree('NNP', ['Elsevier']), Tree('NNP', ['N.V.'])]), Tree(',', [',']), Tree('NP', [Tree('DT', ['the']), Tree('NNP', ['Dutch']), Tree('VBG', ['publishing']), Tree('NN', ['group'])])])])])]), Tree('.', ['.'])])"
      ]
     },
     "execution_count": 94,
     "metadata": {},
     "output_type": "execute_result"
    }
   ],
   "source": [
    "treebank.parsed_sents('wsj_0001.mrg')[1]"
   ]
  },
  {
   "cell_type": "code",
   "execution_count": 76,
   "metadata": {},
   "outputs": [
    {
     "data": {
      "text/plain": [
       "[('Pierre', 'NOUN'),\n",
       " ('Vinken', 'NOUN'),\n",
       " (',', '.'),\n",
       " ('61', 'NUM'),\n",
       " ('years', 'NOUN'),\n",
       " ('old', 'ADJ'),\n",
       " (',', '.'),\n",
       " ('will', 'VERB'),\n",
       " ('join', 'VERB'),\n",
       " ('the', 'DET'),\n",
       " ('board', 'NOUN'),\n",
       " ('as', 'ADP'),\n",
       " ('a', 'DET'),\n",
       " ('nonexecutive', 'ADJ'),\n",
       " ('director', 'NOUN'),\n",
       " ('Nov.', 'NOUN'),\n",
       " ('29', 'NUM'),\n",
       " ('.', '.'),\n",
       " ('Mr.', 'NOUN'),\n",
       " ('Vinken', 'NOUN'),\n",
       " ('is', 'VERB'),\n",
       " ('chairman', 'NOUN'),\n",
       " ('of', 'ADP'),\n",
       " ('Elsevier', 'NOUN'),\n",
       " ('N.V.', 'NOUN'),\n",
       " (',', '.'),\n",
       " ('the', 'DET'),\n",
       " ('Dutch', 'NOUN'),\n",
       " ('publishing', 'VERB'),\n",
       " ('group', 'NOUN'),\n",
       " ('.', '.'),\n",
       " ('Rudolph', 'NOUN'),\n",
       " ('Agnew', 'NOUN'),\n",
       " (',', '.'),\n",
       " ('55', 'NUM'),\n",
       " ('years', 'NOUN'),\n",
       " ('old', 'ADJ'),\n",
       " ('and', 'CONJ'),\n",
       " ('former', 'ADJ'),\n",
       " ('chairman', 'NOUN')]"
      ]
     },
     "execution_count": 76,
     "metadata": {},
     "output_type": "execute_result"
    }
   ],
   "source": [
    "treebank.tagged_words(tagset='universal')[:40]"
   ]
  },
  {
   "cell_type": "code",
   "execution_count": 74,
   "metadata": {},
   "outputs": [
    {
     "data": {
      "text/plain": [
       "[['Pierre', 'Vinken', ',', '61', 'years', 'old', ',', 'will', 'join', 'the', 'board', 'as', 'a', 'nonexecutive', 'director', 'Nov.', '29', '.'], ['Mr.', 'Vinken', 'is', 'chairman', 'of', 'Elsevier', 'N.V.', ',', 'the', 'Dutch', 'publishing', 'group', '.'], ...]"
      ]
     },
     "execution_count": 74,
     "metadata": {},
     "output_type": "execute_result"
    }
   ],
   "source": [
    "treebank.sents()"
   ]
  },
  {
   "cell_type": "code",
   "execution_count": 77,
   "metadata": {},
   "outputs": [
    {
     "data": {
      "text/plain": [
       "[[('Pierre', 'NOUN'), ('Vinken', 'NOUN'), (',', '.'), ('61', 'NUM'), ('years', 'NOUN'), ('old', 'ADJ'), (',', '.'), ('will', 'VERB'), ('join', 'VERB'), ('the', 'DET'), ('board', 'NOUN'), ('as', 'ADP'), ('a', 'DET'), ('nonexecutive', 'ADJ'), ('director', 'NOUN'), ('Nov.', 'NOUN'), ('29', 'NUM'), ('.', '.')], [('Mr.', 'NOUN'), ('Vinken', 'NOUN'), ('is', 'VERB'), ('chairman', 'NOUN'), ('of', 'ADP'), ('Elsevier', 'NOUN'), ('N.V.', 'NOUN'), (',', '.'), ('the', 'DET'), ('Dutch', 'NOUN'), ('publishing', 'VERB'), ('group', 'NOUN'), ('.', '.')], ...]"
      ]
     },
     "execution_count": 77,
     "metadata": {},
     "output_type": "execute_result"
    }
   ],
   "source": [
    "treebank.tagged_sents(tagset='universal')"
   ]
  },
  {
   "cell_type": "code",
   "execution_count": null,
   "metadata": {
    "collapsed": true
   },
   "outputs": [],
   "source": []
  },
  {
   "cell_type": "markdown",
   "metadata": {
    "collapsed": true
   },
   "source": [
    "# English WordList"
   ]
  },
  {
   "cell_type": "code",
   "execution_count": 96,
   "metadata": {},
   "outputs": [
    {
     "data": {
      "text/plain": [
       "['en', 'en-basic']"
      ]
     },
     "execution_count": 96,
     "metadata": {},
     "output_type": "execute_result"
    }
   ],
   "source": [
    "# Words Corpus\n",
    "words.fileids()"
   ]
  },
  {
   "cell_type": "code",
   "execution_count": 10,
   "metadata": {},
   "outputs": [
    {
     "data": {
      "text/plain": [
       "['A',\n",
       " 'a',\n",
       " 'aa',\n",
       " 'aal',\n",
       " 'aalii',\n",
       " 'aam',\n",
       " 'Aani',\n",
       " 'aardvark',\n",
       " 'aardwolf',\n",
       " 'Aaron']"
      ]
     },
     "execution_count": 10,
     "metadata": {},
     "output_type": "execute_result"
    }
   ],
   "source": [
    "# English WordList\n",
    "words.words('en')[:10]"
   ]
  },
  {
   "cell_type": "code",
   "execution_count": 99,
   "metadata": {},
   "outputs": [
    {
     "data": {
      "text/plain": [
       "['arabic',\n",
       " 'azerbaijani',\n",
       " 'danish',\n",
       " 'dutch',\n",
       " 'english',\n",
       " 'finnish',\n",
       " 'french',\n",
       " 'german',\n",
       " 'greek',\n",
       " 'hungarian',\n",
       " 'indonesian',\n",
       " 'italian',\n",
       " 'kazakh',\n",
       " 'nepali',\n",
       " 'norwegian',\n",
       " 'portuguese',\n",
       " 'romanian',\n",
       " 'russian',\n",
       " 'spanish',\n",
       " 'swedish',\n",
       " 'turkish']"
      ]
     },
     "execution_count": 99,
     "metadata": {},
     "output_type": "execute_result"
    }
   ],
   "source": [
    "# Words Corpus Callables\n",
    "stopwords.fileids()"
   ]
  },
  {
   "cell_type": "code",
   "execution_count": 11,
   "metadata": {},
   "outputs": [
    {
     "data": {
      "text/plain": [
       "['i', 'me', 'my', 'myself', 'we', 'our', 'ours', 'ourselves', 'you', \"you're\"]"
      ]
     },
     "execution_count": 11,
     "metadata": {},
     "output_type": "execute_result"
    }
   ],
   "source": [
    "# List of English Stopwords\n",
    "stopwords.words('english')[:10]"
   ]
  },
  {
   "cell_type": "markdown",
   "metadata": {},
   "source": [
    "# WordNet"
   ]
  },
  {
   "cell_type": "code",
   "execution_count": 102,
   "metadata": {},
   "outputs": [
    {
     "data": {
      "text/plain": [
       "('cntlist.rev',\n",
       " 'lexnames',\n",
       " 'index.sense',\n",
       " 'index.adj',\n",
       " 'index.adv',\n",
       " 'index.noun',\n",
       " 'index.verb',\n",
       " 'data.adj',\n",
       " 'data.adv',\n",
       " 'data.noun',\n",
       " 'data.verb',\n",
       " 'adj.exc',\n",
       " 'adv.exc',\n",
       " 'noun.exc',\n",
       " 'verb.exc')"
      ]
     },
     "execution_count": 102,
     "metadata": {},
     "output_type": "execute_result"
    }
   ],
   "source": [
    "wordnet.fileids()"
   ]
  },
  {
   "cell_type": "code",
   "execution_count": 13,
   "metadata": {
    "collapsed": true
   },
   "outputs": [],
   "source": [
    "# Word sense of the word \"program\"\n",
    "syns = wordnet.synsets('program')"
   ]
  },
  {
   "cell_type": "code",
   "execution_count": 14,
   "metadata": {},
   "outputs": [
    {
     "data": {
      "text/plain": [
       "[Synset('plan.n.01'),\n",
       " Synset('program.n.02'),\n",
       " Synset('broadcast.n.02'),\n",
       " Synset('platform.n.02'),\n",
       " Synset('program.n.05'),\n",
       " Synset('course_of_study.n.01'),\n",
       " Synset('program.n.07'),\n",
       " Synset('program.n.08'),\n",
       " Synset('program.v.01'),\n",
       " Synset('program.v.02')]"
      ]
     },
     "execution_count": 14,
     "metadata": {},
     "output_type": "execute_result"
    }
   ],
   "source": [
    "# List of word sense for the word \"program\"\n",
    "syns"
   ]
  },
  {
   "cell_type": "code",
   "execution_count": 15,
   "metadata": {},
   "outputs": [
    {
     "data": {
      "text/plain": [
       "'plan'"
      ]
     },
     "execution_count": 15,
     "metadata": {},
     "output_type": "execute_result"
    }
   ],
   "source": [
    "# Accessing each word sense\n",
    "syns[0].lemmas()[0].name()"
   ]
  },
  {
   "cell_type": "code",
   "execution_count": 111,
   "metadata": {},
   "outputs": [
    {
     "data": {
      "text/plain": [
       "'a series of steps to be carried out or goals to be accomplished'"
      ]
     },
     "execution_count": 111,
     "metadata": {},
     "output_type": "execute_result"
    }
   ],
   "source": [
    "# Definition of word sense chosen: Program -- meaning: plan -- detailed definition\n",
    "syns[0].definition()"
   ]
  },
  {
   "cell_type": "code",
   "execution_count": 112,
   "metadata": {},
   "outputs": [
    {
     "data": {
      "text/plain": [
       "['they drew up a six-step plan', 'they discussed plans for a new bond issue']"
      ]
     },
     "execution_count": 112,
     "metadata": {},
     "output_type": "execute_result"
    }
   ],
   "source": [
    "# Example of the word using the word sense chosen\n",
    "syns[0].examples()"
   ]
  },
  {
   "cell_type": "code",
   "execution_count": 114,
   "metadata": {
    "collapsed": true
   },
   "outputs": [],
   "source": [
    "# Find synonyms and antonyms\n",
    "\n",
    "synonyms = []\n",
    "antonyms = []\n",
    "\n",
    "for syn in wordnet.synsets('good'):\n",
    "    for l in syn.lemmas():\n",
    "        synonyms.append(l.name())\n",
    "        if l.antonyms():\n",
    "            antonyms.append(l.antonyms()[0].name())"
   ]
  },
  {
   "cell_type": "code",
   "execution_count": 115,
   "metadata": {},
   "outputs": [
    {
     "name": "stdout",
     "output_type": "stream",
     "text": [
      "['good', 'good', 'goodness', 'good', 'goodness', 'commodity', 'trade_good', 'good', 'good', 'full', 'good', 'good', 'estimable', 'good', 'honorable', 'respectable', 'beneficial', 'good', 'good', 'good', 'just', 'upright', 'adept', 'expert', 'good', 'practiced', 'proficient', 'skillful', 'skilful', 'good', 'dear', 'good', 'near', 'dependable', 'good', 'safe', 'secure', 'good', 'right', 'ripe', 'good', 'well', 'effective', 'good', 'in_effect', 'in_force', 'good', 'good', 'serious', 'good', 'sound', 'good', 'salutary', 'good', 'honest', 'good', 'undecomposed', 'unspoiled', 'unspoilt', 'good', 'well', 'good', 'thoroughly', 'soundly', 'good']\n"
     ]
    }
   ],
   "source": [
    "print(synonyms)"
   ]
  },
  {
   "cell_type": "code",
   "execution_count": 116,
   "metadata": {},
   "outputs": [
    {
     "name": "stdout",
     "output_type": "stream",
     "text": [
      "['evil', 'evilness', 'bad', 'badness', 'bad', 'evil', 'ill']\n"
     ]
    }
   ],
   "source": [
    "print(antonyms)"
   ]
  },
  {
   "cell_type": "code",
   "execution_count": 119,
   "metadata": {},
   "outputs": [
    {
     "data": {
      "text/plain": [
       "0.9090909090909091"
      ]
     },
     "execution_count": 119,
     "metadata": {},
     "output_type": "execute_result"
    }
   ],
   "source": [
    "# Calculate the similarity of two words\n",
    "w1 = wordnet.synset('ship.n.01')\n",
    "w2 = wordnet.synset('boat.n.01')\n",
    "w1.wup_similarity(w2)"
   ]
  },
  {
   "cell_type": "code",
   "execution_count": 120,
   "metadata": {},
   "outputs": [
    {
     "data": {
      "text/plain": [
       "0.1111111111111111"
      ]
     },
     "execution_count": 120,
     "metadata": {},
     "output_type": "execute_result"
    }
   ],
   "source": [
    "w1 = wordnet.synset('ship.n.01')\n",
    "w2 = wordnet.synset('shoes.n.01')\n",
    "w1.wup_similarity(w2)"
   ]
  },
  {
   "cell_type": "markdown",
   "metadata": {
    "collapsed": true
   },
   "source": [
    "# Semcor Corpus"
   ]
  },
  {
   "cell_type": "code",
   "execution_count": 84,
   "metadata": {},
   "outputs": [
    {
     "data": {
      "text/plain": [
       "['The', 'Fulton', 'County', 'Grand', 'Jury', 'said', ...]"
      ]
     },
     "execution_count": 84,
     "metadata": {},
     "output_type": "execute_result"
    }
   ],
   "source": [
    "# Semcor Corpus: Subset of Brown Corpus tagged with WordNet senses and named entities\n",
    "semcor.words()"
   ]
  },
  {
   "cell_type": "code",
   "execution_count": 85,
   "metadata": {},
   "outputs": [
    {
     "data": {
      "text/plain": [
       "[['The'], ['Fulton', 'County', 'Grand', 'Jury'], ...]"
      ]
     },
     "execution_count": 85,
     "metadata": {},
     "output_type": "execute_result"
    }
   ],
   "source": [
    "semcor.chunks()"
   ]
  },
  {
   "cell_type": "code",
   "execution_count": 82,
   "metadata": {},
   "outputs": [
    {
     "data": {
      "text/plain": [
       "[[['The'], ['Fulton', 'County', 'Grand', 'Jury'], ['said'], ['Friday'], ['an'], ['investigation'], ['of'], ['Atlanta'], [\"'s\"], ['recent'], ['primary', 'election'], ['produced'], ['``'], ['no'], ['evidence'], [\"''\"], ['that'], ['any'], ['irregularities'], ['took', 'place'], ['.']], [['The'], ['jury'], ['further'], ['said'], ['in'], ['term'], ['end'], ['presentments'], ['that'], ['the'], ['City', 'Executive', 'Committee'], [','], ['which'], ['had'], ['over-all'], ['charge'], ['of'], ['the'], ['election'], [','], ['``'], ['deserves'], ['the'], ['praise'], ['and'], ['thanks'], ['of'], ['the'], ['City', 'of', 'Atlanta'], [\"''\"], ['for'], ['the'], ['manner'], ['in'], ['which'], ['the'], ['election'], ['was'], ['conducted'], ['.']], ...]"
      ]
     },
     "execution_count": 82,
     "metadata": {},
     "output_type": "execute_result"
    }
   ],
   "source": [
    "semcor.chunk_sents()"
   ]
  },
  {
   "cell_type": "code",
   "execution_count": 89,
   "metadata": {},
   "outputs": [
    {
     "data": {
      "text/plain": [
       "['(DT The)',\n",
       " \"(Lemma('group.n.01.group') (NE (NNP Fulton County Grand Jury)))\",\n",
       " \"(Lemma('state.v.01.say') (VB said))\",\n",
       " \"(Lemma('friday.n.01.Friday') (NN Friday))\",\n",
       " '(DT an)',\n",
       " \"(Lemma('probe.n.01.investigation') (NN investigation))\",\n",
       " '(IN of)',\n",
       " \"(Lemma('atlanta.n.01.Atlanta') (NN Atlanta))\",\n",
       " \"(POS 's)\",\n",
       " \"(Lemma('late.s.03.recent') (JJ recent))\",\n",
       " \"(Lemma('primary.n.01.primary_election') (NN primary election))\",\n",
       " \"(Lemma('produce.v.04.produce') (VB produced))\",\n",
       " '(None ``)',\n",
       " '(DT no)',\n",
       " \"(Lemma('evidence.n.01.evidence') (NN evidence))\",\n",
       " \"(None '')\",\n",
       " '(IN that)',\n",
       " '(DT any)',\n",
       " \"(Lemma('abnormality.n.04.irregularity') (NN irregularities))\",\n",
       " \"(Lemma('happen.v.01.take_place') (VB took place))\",\n",
       " '(None .)',\n",
       " '(DT The)',\n",
       " \"(Lemma('jury.n.01.jury') (NN jury))\",\n",
       " \"(Lemma('far.r.02.far') (RB further))\",\n",
       " \"(Lemma('state.v.01.say') (VB said))\",\n",
       " '(IN in)',\n",
       " \"(Lemma('term.n.02.term') (NN term))\",\n",
       " \"(Lemma('end.n.02.end') (NN end))\",\n",
       " \"(Lemma('presentment.n.01.presentment') (NN presentments))\",\n",
       " '(IN that)',\n",
       " '(DT the)',\n",
       " \"(Lemma('group.n.01.group') (NE (NNP City Executive Committee)))\",\n",
       " '(None ,)',\n",
       " '(WDT which)',\n",
       " \"(Lemma('own.v.01.have') (VB had))\",\n",
       " \"(Lemma('overall.s.02.overall') (JJ over-all))\",\n",
       " \"(Lemma('mission.n.03.charge') (NN charge))\",\n",
       " '(IN of)',\n",
       " '(DT the)',\n",
       " \"(Lemma('election.n.01.election') (NN election))\",\n",
       " '(None ,)',\n",
       " '(None ``)',\n",
       " \"(Lemma('deserve.v.01.deserve') (VB deserves))\",\n",
       " '(DT the)',\n",
       " \"(Lemma('praise.n.01.praise') (NN praise))\",\n",
       " '(CC and)',\n",
       " \"(Lemma('thanks.n.01.thanks') (NN thanks))\",\n",
       " '(IN of)',\n",
       " '(DT the)',\n",
       " \"(Lemma('location.n.01.location') (NE (NNP City of Atlanta)))\"]"
      ]
     },
     "execution_count": 89,
     "metadata": {},
     "output_type": "execute_result"
    }
   ],
   "source": [
    "list(map(str, semcor.tagged_chunks(tag='both')[:50]))"
   ]
  }
 ],
 "metadata": {
  "kernelspec": {
   "display_name": "Python 3",
   "language": "python",
   "name": "python3"
  },
  "language_info": {
   "codemirror_mode": {
    "name": "ipython",
    "version": 3
   },
   "file_extension": ".py",
   "mimetype": "text/x-python",
   "name": "python",
   "nbconvert_exporter": "python",
   "pygments_lexer": "ipython3",
   "version": "3.6.3"
  }
 },
 "nbformat": 4,
 "nbformat_minor": 2
}
